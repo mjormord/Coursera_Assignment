{
 "cells": [
  {
   "cell_type": "markdown",
   "id": "f108a3eb-6062-47ea-86f7-b177c9d15b21",
   "metadata": {},
   "source": [
    "# Data Science Tools and Ecosystem"
   ]
  },
  {
   "cell_type": "markdown",
   "id": "4fb1158b-708f-4a4e-9867-cbba03ad61ac",
   "metadata": {},
   "source": [
    "In this notebook, Data Science Tools and Ecosystem are summarized."
   ]
  },
  {
   "cell_type": "markdown",
   "id": "1dbb364a-ee63-46e4-b53c-f70389e68c1b",
   "metadata": {},
   "source": [
    "### Some of the popular languages that Data Scientists use are:\n",
    "1. SQP\n",
    "2. R\n",
    "3. Python"
   ]
  },
  {
   "cell_type": "markdown",
   "id": "314e23f5-d67e-4c6a-9e2f-24bf51180dc1",
   "metadata": {},
   "source": [
    "### Some of the commonly used libraries used by Data Scientists include:\n",
    "1. Matplotlib\n",
    "2. Pandas\n",
    "3. SciPy"
   ]
  },
  {
   "cell_type": "markdown",
   "id": "403bac95-087a-4bd0-9c2d-b0fe6235a8af",
   "metadata": {},
   "source": [
    "|Data Science Tools|\n",
    "|-|\n",
    "|RStudio|\n",
    "|PyCharm|\n",
    "|Jupyter IDE|"
   ]
  },
  {
   "cell_type": "markdown",
   "id": "1a8f4e32-f129-4785-aac4-bc1b1dece731",
   "metadata": {},
   "source": [
    "### Below are a few examples of evaluating arithmetic expressions in Python"
   ]
  },
  {
   "cell_type": "markdown",
   "id": "c3c1c21a-0d12-475b-bad4-895efd429211",
   "metadata": {},
   "source": [
    "This a simple arithmetic expression to mutiply then add integers"
   ]
  },
  {
   "cell_type": "code",
   "execution_count": 1,
   "id": "2bc35629-584b-44dc-9f3f-29029d15a409",
   "metadata": {},
   "outputs": [
    {
     "data": {
      "text/plain": [
       "17"
      ]
     },
     "execution_count": 1,
     "metadata": {},
     "output_type": "execute_result"
    }
   ],
   "source": [
    "(3*4)+5"
   ]
  },
  {
   "cell_type": "markdown",
   "id": "45c57daa-15b7-4f82-9e77-12f4af486cac",
   "metadata": {},
   "source": [
    "### This will convert 200 minutes to hours by diving by 60"
   ]
  },
  {
   "cell_type": "code",
   "execution_count": 6,
   "id": "d57b1d8a-b3cc-44bb-8913-2d9ac7e0a0a5",
   "metadata": {},
   "outputs": [
    {
     "name": "stdout",
     "output_type": "stream",
     "text": [
      "Hours: 3.3333333333333335\n"
     ]
    }
   ],
   "source": [
    "x= 200\n",
    "Hours = x/60\n",
    "print(\"Hours:\", Hours)"
   ]
  },
  {
   "cell_type": "markdown",
   "id": "00efb7c0-c05b-4522-adc4-7b9224821365",
   "metadata": {},
   "source": [
    "##### Objectives:"
   ]
  },
  {
   "cell_type": "markdown",
   "id": "94f7c68d-a520-4792-a018-699d03abc5fd",
   "metadata": {},
   "source": [
    "- Display input and output for simple arythmatic.\n",
    "- List popular IDE's.\n",
    "- List popular languages in Data Science."
   ]
  },
  {
   "cell_type": "markdown",
   "id": "e59c6bf8-64b2-40d7-95a3-b5aa16d66cbf",
   "metadata": {},
   "source": [
    "## Author\n",
    "Michael O"
   ]
  },
  {
   "cell_type": "code",
   "execution_count": null,
   "id": "ac3b2335-6050-499c-b75d-cd20cadfc793",
   "metadata": {},
   "outputs": [],
   "source": []
  }
 ],
 "metadata": {
  "kernelspec": {
   "display_name": "Python 3 (ipykernel)",
   "language": "python",
   "name": "python3"
  },
  "language_info": {
   "codemirror_mode": {
    "name": "ipython",
    "version": 3
   },
   "file_extension": ".py",
   "mimetype": "text/x-python",
   "name": "python",
   "nbconvert_exporter": "python",
   "pygments_lexer": "ipython3",
   "version": "3.11.9"
  }
 },
 "nbformat": 4,
 "nbformat_minor": 5
}
